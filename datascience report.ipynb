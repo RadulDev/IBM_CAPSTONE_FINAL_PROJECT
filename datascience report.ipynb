{
    "cells": [
        {
            "cell_type": "markdown",
            "metadata": {
                "collapsed": true
            },
            "source": "# DATA SCIENCE FINAL PROJECT"
        },
        {
            "cell_type": "markdown",
            "metadata": {},
            "source": "# The Battle of Neighborhoods"
        },
        {
            "cell_type": "markdown",
            "metadata": {},
            "source": "RADUL R DEV"
        },
        {
            "cell_type": "markdown",
            "metadata": {},
            "source": "<H3> INTRODUCTION</H3>"
        },
        {
            "cell_type": "markdown",
            "metadata": {},
            "source": "<B>London</B> is the capital and largest city of England and the United Kingdom.London has been a major settlement for two millennia.London is one of the world's most important global cities.London has a diverse range of people and cultures, and more than 300 languages are spoken in the region.London contains four World Heritage Sites.London encompasses a total area of 1,583 square kilometres (611 sq mi), an area which had a population of 7,172,036 in 2001 and a population density of 4,542 inhabitants per square kilometre (11,760/sq mi)."
        },
        {
            "cell_type": "markdown",
            "metadata": {},
            "source": "<B>Paris</B> is the capital and most populous city of France.Paris have estimated population of 2,148,271 residents as of 2020, in an area of 105 square kilometres.Paris was the second most expensive city in the world. It was ranked as the second most visited travel destination in the world in 2019."
        },
        {
            "cell_type": "markdown",
            "metadata": {},
            "source": "<H3> BUISNESS PROBLEM</H3>"
        },
        {
            "cell_type": "markdown",
            "metadata": {},
            "source": "The aim is to help tourists choose their destinations depending on the experiences that the neighbourhoods have to offer and what they would want to have. This also helps people make decisions if they are thinking about migrating to London or Paris or even if they want to relocate neighbourhoods within the city. Our findings will help stakeholders make informed decisions and address any concerns they have including the different kinds of cuisines, provision stores and what the city has to offer."
        },
        {
            "cell_type": "markdown",
            "metadata": {},
            "source": "<H3>DATA DESCRIPTION</H3>"
        },
        {
            "cell_type": "markdown",
            "metadata": {},
            "source": "Using Postal codes we use can find out the neighborhoods, boroughs, venues and their most popular venue categories.From the geographical locaton data and the properties we could sum up what cityies have to offer."
        },
        {
            "cell_type": "markdown",
            "metadata": {},
            "source": "<b>London</b>"
        },
        {
            "cell_type": "markdown",
            "metadata": {},
            "source": "To derive our solution, We scrape our data from https://en.wikipedia.org/wiki/List_of_areas_of_London \nThis wikipedia page has information about all the neighbourhoods, we limit it London. borough(Name of Neighbourhood), town(Name of borough), post_code(Postal codes for London)."
        },
        {
            "cell_type": "markdown",
            "metadata": {},
            "source": "<b>Paris</b>"
        },
        {
            "cell_type": "markdown",
            "metadata": {},
            "source": "To derive our solution, We leverage JSON data available at https://www.data.gouv.fr/fr/datasets/r/e88c6fda-1d09-42a0-a069-606d3259114e\nThe JSON file has data about all the neighbourhoods in France, we limit it to Paris. postal_code(Postal codes for France), nom_comm(Name of Neighbourhoods in France), nom_dept(Name of the boroughs, equivalent to towns in France), geo_point_2d(Tuple containing the latitude and longitude of the Neighbourhoods)."
        },
        {
            "cell_type": "markdown",
            "metadata": {},
            "source": "<b>Foursquare API Data</b>"
        },
        {
            "cell_type": "markdown",
            "metadata": {},
            "source": "\nWe will need data about different venues in different neighbourhoods of that specific borough. In order to gain that information we will use \"Foursquare\" locational information. Foursquare is a location data provider with information about all manner of venues and events within an area of interest. Such information includes venue names, locations, menus and even photos. As such, the foursquare location platform will be used as the sole data source since all the stated required information can be obtained through the API.\n\nAfter finding the list of neighbourhoods, we then connect to the Foursquare API to gather information about venues inside each and every neighbourhood. For each neighbourhood, we have chosen the radius to be 500 meters.\n\nThe data retrieved from Foursquare contained information of venues within a specified distance of the longitude and latitude of the postcodes. The information obtained per venue as follows:\n\nNeighbourhood (Name of the Neighbourhood)\nNeighbourhood Latitude(Latitude of the Neighbourhood)\nNeighbourhood Longitude(Longitude of the Neighbourhood)\nVenue(Name of the Venue)\nVenue Latitude(Latitude of Venue)\nVenue Longitude(Longitude of Venue)\nVenue Category(Category of Venue)\nBased on all the information collected for both London and Paris, we have sufficient data to build our model. We cluster the neighbourhoods together based on similar venue categories. We then present our observations and findings. Using this data, our stakeholders can take the necessary decision."
        },
        {
            "cell_type": "markdown",
            "metadata": {},
            "source": "<h3>METHODOLOGY</h3>"
        },
        {
            "cell_type": "markdown",
            "metadata": {},
            "source": "Using different python libraries such as pandas, numpy, requests, matplotlib, folium, sklearn"
        },
        {
            "cell_type": "markdown",
            "metadata": {},
            "source": "The approach taken here is to explore each of the cities individually, plot the map to show the neighbourhoods being considered and then build our model by clustering all of the similar neighbourhoods together and finally plot the new map with the clustered neighbourhoods. We draw insights and then compare and discuss our findings."
        },
        {
            "cell_type": "markdown",
            "metadata": {},
            "source": "<h3>DATA COLLECTON</h3>"
        },
        {
            "cell_type": "markdown",
            "metadata": {},
            "source": "In the data collection stage, we begin with collecting the required data for the cities of London and Paris. We need data that has the postal codes, neighbourhoods and boroughs specific to each of the cities.\n\nTo collect data for London, we scrape the List of areas of London wikipedia page to take the 2nd table using the following code:\n\nurl_london = \"https://en.wikipedia.org/wiki/List_of_areas_of_London\"\n\nwiki_london_url = requests.get(url_london)\n\nwiki_london_data = pd.read_html(wiki_london_url.text)\n\nwiki_london_data = wiki_london_data[1]\n\nwiki_london_data"
        },
        {
            "cell_type": "markdown",
            "metadata": {},
            "source": "To collect data for Paris, we download the JSON file containg all the postal codes of France from https://www.data.gouv.fr/fr/datasets/r/e88c6fda-1d09-42a0-a069-606d3259114e\n\nUsing Pandas we load the table after reading the JSON file:\n\n!wget -q -O 'france-data.json' https://www.data.gouv.fr/fr/datasets/r/e88c6fda-1d09-42a0-a069-606d3259114e\n\nprint(\"Data Downloaded!\")\n\nparis_raw = pd.read_json('france-data.json')\n\nparis_raw.head()"
        },
        {
            "cell_type": "markdown",
            "metadata": {},
            "source": "<H3>DATA PROCESSING</H3>"
        },
        {
            "cell_type": "markdown",
            "metadata": {},
            "source": "For London, We replace the spaces with underscores in the title.The borough column has numbers within square brackets that we remove using:\n\n"
        },
        {
            "cell_type": "raw",
            "metadata": {},
            "source": "wiki_london_data.rename(columns=lambda x: x.strip().replace(\" \", \"_\"), inplace=True)\nwiki_london_data['borough'] = wiki_london_data['borough'].map(lambda x: x.rstrip(']').rstrip('0123456789').rstrip('['))\nFor Paris, we break down each of the nested fields and create the dataframe that we need:\n\nparis_field_data = pd.DataFrame()\nfor f in paris_raw.fields:\n    dict_new = f\n    paris_field_data = paris_field_data.append(dict_new, ignore_index=True)\n\nparis_field_data.head()"
        },
        {
            "cell_type": "markdown",
            "metadata": {},
            "source": "<H3>FEATURE SELECTION</H3>"
        },
        {
            "cell_type": "markdown",
            "metadata": {},
            "source": "For both of our datasets, we need only the borough, neighbourhood, postal codes and geolocations (latitude and longitude). So we end up selecting the columns that we need by:"
        },
        {
            "cell_type": "markdown",
            "metadata": {},
            "source": "df1 = wiki_london_data.drop( [ wiki_london_data.columns[0], wiki_london_data.columns[4], wiki_london_data.columns[5] ], axis=1)\n\ndf_2 = paris_field_data[['postal_code','nom_comm','nom_dept','geo_point_2d']]"
        },
        {
            "cell_type": "markdown",
            "metadata": {},
            "source": "<H3>FEATURE ENGINEERING</H3>"
        },
        {
            "cell_type": "markdown",
            "metadata": {},
            "source": "\nBoth of our Datasets actually contain information related to all the cities in the country. We can narrow down and further process the data by selecting only the neighbourhoods pertaining to 'London' and 'Paris'"
        },
        {
            "cell_type": "raw",
            "metadata": {},
            "source": "df1 = df1[df1['town'].str.contains('LONDON')]\n\ndf_paris = df_2[df_2['nom_dept'].str.contains('PARIS')].reset_index(drop=True)"
        },
        {
            "cell_type": "markdown",
            "metadata": {},
            "source": "\nLooking over our London dataset, we can see that we don't have the geolocation data. We need to extrapolate the missing data for our neighbourhoods. We perform this by leveraging the ArcGIS API. With the Help of ArcGIS API we can get the latitude and longitude of our London neighbourhood data."
        },
        {
            "cell_type": "raw",
            "metadata": {},
            "source": "from arcgis.geocoding import geocode\nfrom arcgis.gis import GIS\ngis = GIS()"
        },
        {
            "cell_type": "markdown",
            "metadata": {},
            "source": "Defining London arcgis geocode function to return latitude and longitude"
        },
        {
            "cell_type": "raw",
            "metadata": {},
            "source": "def get_x_y_uk(address1):\n   lat_coords = 0\n   lng_coords = 0\n   g = geocode(address='{}, London, England, GBR'.format(address1))[0]\n   lng_coords = g['location']['x']\n   lat_coords = g['location']['y']\n   return str(lat_coords) +\",\"+ str(lng_coords)"
        },
        {
            "cell_type": "markdown",
            "metadata": {},
            "source": "Passing postal codes of london to get the geographical co-ordinates"
        },
        {
            "cell_type": "markdown",
            "metadata": {},
            "source": "coordinates_latlng_uk = geo_coordinates_uk.apply(lambda x: get_x_y_uk(x))"
        },
        {
            "cell_type": "markdown",
            "metadata": {},
            "source": "We proceed with Merging our source data with the geographical co-ordinates to make our dataset ready for the next stage"
        },
        {
            "cell_type": "raw",
            "metadata": {},
            "source": "london_merged = pd.concat([df1,lat_uk.astype(float), lng_uk.astype(float)], axis=1)\nlondon_merged.columns= ['borough','town','post_code','latitude','longitude']\nlondon_merged"
        },
        {
            "cell_type": "markdown",
            "metadata": {},
            "source": "\nAs for our Paris dataset, we don't need to get the geo coordinates using an external data source or collect it with the ArcGIS API call since we already have it stored in the geo_point_2d column as a tuple in the df_paris dataframe.\n\nWe just need to extract the latitude and longitude for the column:"
        },
        {
            "cell_type": "raw",
            "metadata": {},
            "source": "paris_lat = paris_latlng.apply(lambda x: x.split(',')[0])\nparis_lat = paris_lat.apply(lambda x: x.lstrip('['))\n\nparis_lng = paris_latlng.apply(lambda x: x.split(',')[1])\nparis_lng = paris_lng.apply(lambda x: x.rstrip(']'))\n\nparis_geo_lat  = pd.DataFrame(paris_lat.astype(float))\nparis_geo_lat.columns=['Latitude']\n\nparis_geo_lng = pd.DataFrame(paris_lng.astype(float))\nparis_geo_lng.columns=['Longitude']"
        },
        {
            "cell_type": "markdown",
            "metadata": {},
            "source": "We then create our Paris dataset with the required information:"
        },
        {
            "cell_type": "raw",
            "metadata": {},
            "source": "paris_combined_data = pd.concat([df_paris.drop('geo_point_2d', axis=1), paris_geo_lat, paris_geo_lng], axis=1)\nparis_combined_data"
        },
        {
            "cell_type": "markdown",
            "metadata": {},
            "source": "<h3>Visualizing the Neighbourhoods of London and Paris</h3>"
        },
        {
            "cell_type": "markdown",
            "metadata": {},
            "source": "link to notebook: https://dataplatform.cloud.ibm.com/analytics/notebooks/v2/615f6cf5-731f-486c-af98-f2a46f1efa26/view?access_token=77d7f4d4e97070c3dde6818d876c10a92d2138344eeac6870ff6921a5c8c703e"
        },
        {
            "cell_type": "markdown",
            "metadata": {},
            "source": "<h3>One Hot Encoding</h3>"
        },
        {
            "cell_type": "markdown",
            "metadata": {},
            "source": "Since we are trying to find out what are the different kinds of venue categories present in each neighbourhood and then calculate the top 10 common venues to base our similarity on, we use the One Hot Encoding to work with our categorical datatype of the venue categories. This helps to convert the categorical data into numeric data.\n\nWe won't be using label encoding in this situation since label encoding might cause our machine learning model to have a bias or a sort of ranking which we are trying to avoid by using One Hot Encoding.\n\nWe perform one hot encoding and then calculate the mean of the grouped venue categories for each of the neighbourhoods."
        },
        {
            "cell_type": "raw",
            "metadata": {},
            "source": "# One hot encoding\nLondon_venue_cat = pd.get_dummies(venues_in_London[['Venue Category']], prefix=\"\", prefix_sep=\"\")\n\n# Adding neighbourhood to the mix\nLondon_venue_cat['Neighbourhood'] = venues_in_London['Neighbourhood'] \n\n# moving neighborhood column to the first column\nfixed_columns = [London_venue_cat.columns[-1]] + list(London_venue_cat.columns[:-1])\nLondon_venue_cat = London_venue_cat[fixed_columns]\n\n# Grouping and calculating the mean\nLondon_grouped = London_venue_cat.groupby('Neighbourhood').mean().reset_index()"
        },
        {
            "cell_type": "markdown",
            "metadata": {},
            "source": "<h3>Top Venues in the Neighbourhoods</h3>"
        },
        {
            "cell_type": "markdown",
            "metadata": {},
            "source": "In our next step, We need to rank and label the top venue categories in our neighborhood.\n\nLet's define a function to get the top venue categories in the neighbourhood"
        },
        {
            "cell_type": "raw",
            "metadata": {},
            "source": "def return_most_common_venues(row, num_top_venues):\n    row_categories = row.iloc[1:]\n    row_categories_sorted = row_categories.sort_values(ascending=False)\n\n    return row_categories_sorted.index.values[0:num_top_venues]"
        },
        {
            "cell_type": "markdown",
            "metadata": {},
            "source": "There are many categories, we will consider top 10 categories to avoid data skew.\n\nDefining a function to label them accurately"
        },
        {
            "cell_type": "raw",
            "metadata": {},
            "source": "num_top_venues = 10\n\nindicators = ['st', 'nd', 'rd']\n\n# create columns according to number of top venues\ncolumns = ['Neighbourhood']\nfor ind in np.arange(num_top_venues):\n    try:\n        columns.append('{}{} Most Common Venue'.format(ind+1, indicators[ind]))\n    except:\n        columns.append('{}th Most Common Venue'.format(ind+1))"
        },
        {
            "cell_type": "markdown",
            "metadata": {},
            "source": "Getting the top venue categories in the neighbourhoods of London"
        },
        {
            "cell_type": "raw",
            "metadata": {},
            "source": "# create a new dataframe for London\nneighborhoods_venues_sorted_london = pd.DataFrame(columns=columns)\nneighborhoods_venues_sorted_london['Neighbourhood'] = London_grouped['Neighbourhood']\n\nfor ind in np.arange(London_grouped.shape[0]):\n    neighborhoods_venues_sorted_london.iloc[ind, 1:] = return_most_common_venues(London_grouped.iloc[ind, :], num_top_venues)\n\nneighborhoods_venues_sorted_london.head()"
        },
        {
            "cell_type": "markdown",
            "metadata": {},
            "source": "<h3>Model Building - KMeans</h3>"
        },
        {
            "cell_type": "markdown",
            "metadata": {},
            "source": "Moving on to the most exicitng part - Model Building! We will be using KMeans Clustering Machine learning algorithm to cluster similar neighbourhoods together. We will be going with the number of clusters as 5."
        },
        {
            "cell_type": "raw",
            "metadata": {},
            "source": "# set number of clusters\nk_num_clusters = 5\n\nLondon_grouped_clustering = London_grouped.drop('Neighbourhood', 1)\n\n# run k-means clustering\nkmeans_london = KMeans(n_clusters=k_num_clusters, random_state=0).fit(London_grouped_clustering)"
        },
        {
            "cell_type": "markdown",
            "metadata": {},
            "source": "Our model has labelled each of the neighbourhoods, we add the label into our dataset."
        },
        {
            "cell_type": "raw",
            "metadata": {},
            "source": "neighborhoods_venues_sorted_london.insert(0, 'Cluster Labels', kmeans_london.labels_ +1)"
        },
        {
            "cell_type": "markdown",
            "metadata": {},
            "source": "We then join London_merged with our neighbourhood venues sorted to add latitude & longitude for each of the neighborhood to prepare it for visualization."
        },
        {
            "cell_type": "raw",
            "metadata": {},
            "source": "london_data = london_merged\n\nlondon_data = london_data.join(neighborhoods_venues_sorted_london.set_index('Neighbourhood'), on='borough')\n\nlondon_data.head()"
        },
        {
            "cell_type": "markdown",
            "metadata": {},
            "source": "<h3>Visualizing the clustered Neighbourhoods</h3>"
        },
        {
            "cell_type": "markdown",
            "metadata": {},
            "source": "Our data is processed, missing data is collected and compiled. The Model is built. All that's remaining is to see the clustered neighbourhoods on the map. Again, we use Folium package to do so.\n\nWe drop all the NaN values to prevent data skew"
        },
        {
            "cell_type": "raw",
            "metadata": {},
            "source": "london_data_nonan = london_data.dropna(subset=['Cluster Labels'])"
        },
        {
            "cell_type": "markdown",
            "metadata": {},
            "source": "link to notebook: https://dataplatform.cloud.ibm.com/analytics/notebooks/v2/615f6cf5-731f-486c-af98-f2a46f1efa26/view?access_token=77d7f4d4e97070c3dde6818d876c10a92d2138344eeac6870ff6921a5c8c703e"
        },
        {
            "cell_type": "markdown",
            "metadata": {},
            "source": "<h3>Examining our Clusters</h3>"
        },
        {
            "cell_type": "markdown",
            "metadata": {},
            "source": "Cluster 1"
        },
        {
            "cell_type": "raw",
            "metadata": {},
            "source": "london_data_nonan.loc[london_data_nonan['Cluster Labels'] == 1, london_data_nonan.columns[[1] + list(range(5, london_data_nonan.shape[1]))]]"
        },
        {
            "cell_type": "markdown",
            "metadata": {},
            "source": "Cluster 2"
        },
        {
            "cell_type": "raw",
            "metadata": {},
            "source": "london_data_nonan.loc[london_data_nonan['Cluster Labels'] == 2, london_data_nonan.columns[[1] + list(range(5, london_data_nonan.shape[1]))]]"
        },
        {
            "cell_type": "markdown",
            "metadata": {},
            "source": "Cluster 3"
        },
        {
            "cell_type": "raw",
            "metadata": {},
            "source": "london_data_nonan.loc[london_data_nonan['Cluster Labels'] == 3, london_data_nonan.columns[[1] + list(range(5, london_data_nonan.shape[1]))]]"
        },
        {
            "cell_type": "markdown",
            "metadata": {},
            "source": "Cluster 4"
        },
        {
            "cell_type": "raw",
            "metadata": {},
            "source": "london_data_nonan.loc[london_data_nonan['Cluster Labels'] == 4, london_data_nonan.columns[[1] + list(range(5, london_data_nonan.shape[1]))]]"
        },
        {
            "cell_type": "markdown",
            "metadata": {},
            "source": "Cluster 5"
        },
        {
            "cell_type": "raw",
            "metadata": {},
            "source": "london_data_nonan.loc[london_data_nonan['Cluster Labels'] == 5, london_data_nonan.columns[[1] + list(range(5, london_data_nonan.shape[1]))]]"
        },
        {
            "cell_type": "markdown",
            "metadata": {},
            "source": "<h3>Results and Discussion</h3>"
        },
        {
            "cell_type": "markdown",
            "metadata": {},
            "source": "The neighbourhoods of London are very mulitcultural. There are a lot of different cusines including Indian, Italian, Turkish and Chinese. London seems to take a step further in this direction by having a lot of Restaurants, bars, juice bars, coffee shops, Fish and Chips shop and Breakfast spots. It has a lot of shopping options too with that of the Flea markets, flower shops, fish markets, Fishing stores, clothing stores. The main modes of transport seem to be Buses and trains. For leisure, the neighbourhoods are set up to have lots of parks, golf courses, zoo, gyms and Historic sites. Overall, the city of London offers a multicultural, diverse and certainly an entertaining experience.\n\nParis is relatively small in size geographically. It has a wide variety of cusines and eateries including French, Thai, Cambodian, Asian, Chinese etc. There are a lot of hangout spots including many Restaurants and Bars. Paris has a lot of Bistro's. Different means of public transport in Paris which includes buses, bikes, boats or ferries. For leisure and sight seeing, there are a lot of Plazas, Trails, Parks, Historic sites, clothing shops, Art galleries and Museums. Overall, Paris seems like the relaxing vacation spot with a mix of lakes, historic spots and a wide variety of cusines to try out."
        },
        {
            "cell_type": "markdown",
            "metadata": {},
            "source": "<h3>Conclusion</h3>"
        },
        {
            "cell_type": "markdown",
            "metadata": {},
            "source": "The purpose of this project was to explore the cities of London and Paris and see how attractive it is to potential tourists and migrants. We explored both the cities based on their postal codes and then extrapolated the common venues present in each of the neighbourhoods finally concluding with clustering similar neighbourhoods together.\n\nWe could see that each of the neighbourhoods in both the cities have a wide variety of experiences to offer which is unique in it's own way. The cultural diversity is quite evident which also gives the feeling of a sense of inclusion.\n\nBoth Paris and London seem to offer a vacation stay or a romantic getaway with a lot of places to explore, beautiful landscapes, amazing food and a wide variety of culture. Overall, it's upto the stakeholders to decide which experience they would prefer more and which would more to their liking."
        },
        {
            "cell_type": "code",
            "execution_count": null,
            "metadata": {},
            "outputs": [],
            "source": ""
        }
    ],
    "metadata": {
        "kernelspec": {
            "display_name": "Python 3.7",
            "language": "python",
            "name": "python3"
        },
        "language_info": {
            "codemirror_mode": {
                "name": "ipython",
                "version": 3
            },
            "file_extension": ".py",
            "mimetype": "text/x-python",
            "name": "python",
            "nbconvert_exporter": "python",
            "pygments_lexer": "ipython3",
            "version": "3.7.9"
        }
    },
    "nbformat": 4,
    "nbformat_minor": 1
}